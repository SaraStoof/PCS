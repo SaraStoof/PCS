{
 "cells": [
  {
   "cell_type": "markdown",
   "metadata": {},
   "source": [
    "**NOTEBOOK FOR TESTING PERMANENT VARIABLES IN THE 2D EXAMPLE**"
   ]
  },
  {
   "cell_type": "code",
   "execution_count": 6,
   "metadata": {},
   "outputs": [],
   "source": [
    "import numpy as np \n",
    "from numba import njit, prange\n",
    "import matplotlib.pyplot as plt "
   ]
  },
  {
   "cell_type": "code",
   "execution_count": 7,
   "metadata": {},
   "outputs": [],
   "source": [
    "#Variables to test\n",
    "#These variables should later on have permanent values, unliked temp and RH which may change values\n",
    "\n",
    "attach_prob_divisor = 500 #This determines how the attach prob should be divided. Attach prob is proportional to Max M-value given conditions\n",
    "#Max M-value corresponds to a certain coverage percentage. This should be divided by something to get attach probability. Minimum 100. \n",
    "\n",
    "decay_prob_multiplier  = 0.01 #decay_prob is inversely proportional to attach_prob, but must be multiplied by a number smaller than 1, lest all particles just decay. \n",
    "timesteps_per_day = 100 #We need to be able to talk about how many days have passed, to be able to compare it to experimental data. \n",
    "particle_boundary = 0.2 #After simulating many runs and averaging, some places will have values between 0 and 1. Some of these should be counted when considering mold surface coverage\n",
    "# The particle boundary determines when these should be counted or discounted"
   ]
  },
  {
   "cell_type": "code",
   "execution_count": null,
   "metadata": {},
   "outputs": [],
   "source": [
    "# Constants\n",
    "GRID_SIZE = 100\n",
    "RADIUS = GRID_SIZE//2\n",
    "SEED = (GRID_SIZE // 2, GRID_SIZE // 2)  # Seed in the middle of the grid\n",
    "DAYS = 128\n",
    "TIMESTEPS = DAYS * timesteps_per_day\n",
    "NUM_SIMS = 100\n",
    "Temp = 30\n",
    "RH = 97"
   ]
  },
  {
   "cell_type": "code",
   "execution_count": null,
   "metadata": {},
   "outputs": [],
   "source": [
    "def attaching_prob(Temp, RH): \n",
    "    RH_crit = (-0.00267 * (Temp**3)) + (0.16*(Temp**2)) - (3.13*Temp) + 100\n",
    "    if(RH < RH_crit):\n",
    "        return 0\n",
    "    M_max = 1+7*((RH_crit-RH)/(RH_crit-100))-2*((RH_crit - RH)/(RH_crit-100))**2 #The maximum M-value for the given temperature and relative humidity \n",
    "    #The above two formulas are from the paper \"A mathematical model of mould growth on wooden material\" by Hukka and Vitten 1999\n",
    "    if(M_max < 0): \n",
    "        return 0\n",
    "\n",
    "    area_covered = 133.6561 + (0.9444885 - 133.6561)/(1 + (M_max/4.951036)**5.67479)\n",
    "    #The formula for translating M-value to surface coverage represented by that coverage, is retrieved by regression over the definition of M-value.\n",
    "    #We use this as a stand-in for attachment probability. \n",
    "    #The regression is over the points (0,0), (1,1), (3,10), (4,30), (5,70), (6,100)\n",
    "    #These are the points where the M-value is 0, 1, 3, 4, 5, 6, respectively as given by the table in \"Development of an improved model for mould growth: Modelling\"  \n",
    "    #by Viitanen et al. 2008\n",
    "    if area_covered > 100:\n",
    "        return 1\n",
    "    return area_covered/attach_prob_divisor"
   ]
  },
  {
   "cell_type": "code",
   "execution_count": null,
   "metadata": {},
   "outputs": [],
   "source": [
    "\n",
    "def coverage_to_m_value(cov): \n",
    "    return 14.87349 + (-0.03030586 - 14.87349)/(1 + (cov/271.0396)**0.4418942)"
   ]
  },
  {
   "cell_type": "code",
   "execution_count": null,
   "metadata": {},
   "outputs": [],
   "source": [
    "\n",
    "@njit(parallel=True)\n",
    "def decay_grid(grid, DECAY_PROB):\n",
    "    for i in prange(grid.shape[0]):\n",
    "        for j in range(grid.shape[1]):\n",
    "            if grid[i, j] == 1 and np.random.uniform() < DECAY_PROB:\n",
    "                grid[i, j] = 0\n",
    "\n",
    "\n",
    "ATTACH_PROB = attaching_prob(Temp, RH)\n",
    "DECAY_PROB = (1 - ATTACH_PROB)*decay_prob_multiplier"
   ]
  },
  {
   "cell_type": "code",
   "execution_count": null,
   "metadata": {},
   "outputs": [],
   "source": [
    "@njit(parallel = True) # This decorator tells Numba to compile this function using the JIT (just-in-time) compiler\n",
    "def particle_loop(GRID_SIZE, grid, ATTACH_PROB, TIMESTEPS, DECAY_PROB):\n",
    "    Reached_edge = False\n",
    "    current_radius = 5 #spawns particles closer to where the seed is, to speed up the program. \n",
    "    \n",
    "    for i in prange(TIMESTEPS):\n",
    "\n",
    "        if i % 1000 == 0:\n",
    "            decay_grid(grid, DECAY_PROB)\n",
    "\n",
    "        if Reached_edge == False:\n",
    "            angle = np.random.uniform(0, 2 * np.pi) # Random angle in radians\n",
    "            particle = (int(GRID_SIZE/2 + current_radius * np.cos(angle)), int(GRID_SIZE/2 + current_radius * np.sin(angle)))\n",
    "        else: \n",
    "            particle = (np.random.randint(0, GRID_SIZE), np.random.randint(0, GRID_SIZE))\n",
    "        while True:\n",
    "            # Create the particle starting from a random point on the circle\n",
    "            #use angle and spawn point of seed (which is the middle of the grid) ...\n",
    "            # ... to calculate the x and y coordinates of a new particle. Cast it to int also. \n",
    "\n",
    "            dist_to_seed = np.sqrt((particle[0] - GRID_SIZE/2) ** 2 + (particle[1] - GRID_SIZE/2) ** 2)\n",
    "            \n",
    "            # Check if particle is out of bounds (ensure it's within grid size)\n",
    "            if Reached_edge == False and dist_to_seed >= current_radius + 5:\n",
    "                break\n",
    "            elif Reached_edge == True and (particle[0] < 0  or particle[1] < 0 or particle[0] >= GRID_SIZE or particle[1] >= GRID_SIZE ):\n",
    "                break\n",
    "\n",
    "            # Check if the particle can attach to any adjacent grid cell (touches the cluster)\n",
    "            if (grid[particle[0] + 1, particle[1]] == 1 or\n",
    "                grid[particle[0] - 1, particle[1]] == 1 or\n",
    "                grid[particle[0], particle[1] + 1] == 1 or\n",
    "                grid[particle[0], particle[1] - 1] == 1):\n",
    "\n",
    "\n",
    "                if np.random.uniform() < ATTACH_PROB:\n",
    "                    grid[particle[0], particle[1]] = 1  # Attach particle to the grid\n",
    "                    if dist_to_seed >= current_radius-1 and Reached_edge == False:\n",
    "                        current_radius += 5\n",
    "                        if current_radius >= RADIUS:\n",
    "                            Reached_edge = True\n",
    "                \n",
    "                break  # Once the particle reaches a neighbor, it is either attached or killed. Either way the loop breaks\n",
    "                \n",
    "\n",
    "            # Move the particle randomly until we pass the loop manually\n",
    "            move = np.random.randint(0, 4)  # Randomly select one of four directions\n",
    "            if move == 0:\n",
    "                particle = (particle[0], particle[1] + 1)  # Move up\n",
    "            elif move == 1:\n",
    "                particle = (particle[0] + 1, particle[1])  # Move right\n",
    "            elif move == 2:\n",
    "                particle = (particle[0], particle[1] - 1)  # Move down\n",
    "            elif move == 3:\n",
    "                particle = (particle[0] - 1, particle[1])  # Move left\n",
    "        "
   ]
  },
  {
   "cell_type": "code",
   "execution_count": null,
   "metadata": {},
   "outputs": [],
   "source": [
    "@njit(parallel=True)\n",
    "def monte_carlo(GRID_SIZE, ATTACH_PROB, TIMESTEPS, NUM_SIMS, DECAY_PROB):\n",
    "    print(\"attach_prob:\" , ATTACH_PROB)\n",
    "    print(\"decay_prob: \", DECAY_PROB)\n",
    "    aggr_grid = np.zeros((GRID_SIZE + 1, GRID_SIZE + 1))\n",
    "    for _ in prange(NUM_SIMS):\n",
    "        # Initialize grid (plus 1 to account for 0-index)\n",
    "        grid = np.zeros((GRID_SIZE + 1, GRID_SIZE + 1))\n",
    "        grid[SEED[0], SEED[1]] = 1  # Set seed point as part of cluster\n",
    "        particle_loop(GRID_SIZE, grid, ATTACH_PROB, TIMESTEPS, DECAY_PROB)\n",
    "        aggr_grid += grid\n",
    "\n",
    "    aggr_grid = aggr_grid/NUM_SIMS\n",
    "    mold_grid = aggr_grid.copy()\n",
    "\n",
    "    for i in prange(mold_grid.shape[0]): \n",
    "        for j in prange(mold_grid.shape[1]): \n",
    "            if mold_grid[i][j] > particle_boundary: \n",
    "                mold_grid[i][j]= 1\n",
    "\n",
    "\n",
    "    \n",
    "    mold_cov = np.sum(mold_grid)/(mold_grid.shape[0]*mold_grid.shape[1]) * 100\n",
    "    return aggr_grid, mold_cov"
   ]
  },
  {
   "cell_type": "code",
   "execution_count": 8,
   "metadata": {},
   "outputs": [
    {
     "name": "stdout",
     "output_type": "stream",
     "text": [
      "attach_prob: 0.1763731082643741\n",
      "decay_prob:  0.008236268917356258\n",
      "Average mold coverage:  10.860307812959437 %\n",
      "M-value:  2.867060679774708\n",
      "Temperature:  30\n",
      "Relative Humidity:  97\n"
     ]
    },
    {
     "data": {
      "image/png": "[encoded data removed]",
      "text/plain": [
       "<Figure size 640x480 with 1 Axes>"
      ]
     },
     "metadata": {},
     "output_type": "display_data"
    }
   ],
   "source": [
    "final_grid, mold_cov = monte_carlo(GRID_SIZE, ATTACH_PROB, TIMESTEPS, NUM_SIMS, DECAY_PROB)\n",
    "print(\"Average mold coverage: \", mold_cov , \"%\")\n",
    "print(\"M-value: \", coverage_to_m_value(mold_cov))\n",
    "print(\"Temperature: \"   , Temp)\n",
    "print(\"Relative Humidity: \" , RH)\n",
    "# Plot the result\n",
    "plt.imshow(final_grid, cmap='Greys', interpolation='nearest')\n",
    "plt.show()"
   ]
  }
 ],
 "metadata": {
  "kernelspec": {
   "display_name": "pcs",
   "language": "python",
   "name": "python3"
  },
  "language_info": {
   "codemirror_mode": {
    "name": "ipython",
    "version": 3
   },
   "file_extension": ".py",
   "mimetype": "text/x-python",
   "name": "python",
   "nbconvert_exporter": "python",
   "pygments_lexer": "ipython3",
   "version": "3.12.8"
  }
 },
 "nbformat": 4,
 "nbformat_minor": 2
}
