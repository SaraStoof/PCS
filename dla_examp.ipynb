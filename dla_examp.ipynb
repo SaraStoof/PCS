{
 "cells": [
  {
   "cell_type": "code",
   "execution_count": 5,
   "metadata": {},
   "outputs": [],
   "source": [
    "import numpy as np \n",
    "from numba import njit, prange\n",
    "import random\n",
    "import matplotlib.pyplot as plt \n",
    "import math"
   ]
  },
  {
   "cell_type": "code",
   "execution_count": null,
   "metadata": {},
   "outputs": [
    {
     "name": "stdout",
     "output_type": "stream",
     "text": [
      "attach_prob: 0.8666082820785073\n",
      "decay_prob:  0.0013339171792149274\n"
     ]
    },
    {
     "data": {
      "image/png": "[encoded data removed]",
      "text/plain": [
       "<Figure size 640x480 with 1 Axes>"
      ]
     },
     "metadata": {},
     "output_type": "display_data"
    }
   ],
   "source": [
    "# Constants\n",
    "GRID_SIZE = 100\n",
    "SEED = (GRID_SIZE // 2, GRID_SIZE // 2)  # Seed in the middle of the grid\n",
    "TIMESTEPS = 100000\n",
    "NUM_SIMS = 1000\n",
    "Temp = 25\n",
    "RH = 97\n",
    "\n",
    "def attaching_prob(Temp, RH, Min_temp, Max_temp, Min_RH, Max_RH): \n",
    "    return (Temp**(-0.68) * RH**(-13.9) - (Min_temp**(-0.68) * Min_RH**(-13.9))) / ((Max_temp**(-0.68) * Max_RH**(-13.9)) - (Min_temp**(-0.68) * Min_RH**(-13.9)))\n",
    "\n",
    "def attaching_prob(Temp, RH): \n",
    "    RH_crit = (-0.00267 * (Temp**3)) + (0.16*(Temp**2)) - (3.13*Temp) + 100\n",
    "    M_max = 1+7*((RH_crit-RH)/(RH_crit-100))-2*((RH_crit - RH)/(RH_crit-100))**2 #The maximum M-value for the given temperature and relative humidity \n",
    "    #The above two formulas are from the paper \"A mathematical model of mould growth on wooden material\" by Hukka and Vitten 1999\n",
    "    attach_prob = 133.6561 + (0.9444885 - 133.6561)/(1 + (M_max/4.951036)**5.67479)\n",
    "    #The formula for translating M-value to surface coverage represented by that coverage, is retrieved by regression over the definition of M-value.\n",
    "    #We use this as a stand-in for attachment probability. \n",
    "    #The regression is over the points (0,0), (1,1), (3,10), (4,30), (5,70), (6,100)\n",
    "    #These are the points where the M-value is 0, 1, 3, 4, 5, 6, respectively as given by the table in \"Development of an improved model for mould growth: Modelling\"  \n",
    "    #by Viitanen et al. 2008\n",
    "    if attach_prob > 100:\n",
    "        attach_prob = 100\n",
    "    return attach_prob / 100\n",
    "\n",
    "\n",
    "@njit(parallel=True)\n",
    "def decay_grid(grid, DECAY_PROB):\n",
    "    for i in prange(grid.shape[0]):\n",
    "        for j in range(grid.shape[1]):\n",
    "            if grid[i, j] == 1 and np.random.uniform() < DECAY_PROB:\n",
    "                grid[i, j] = 0\n",
    "\n",
    "\n",
    "ATTACH_PROB = attaching_prob(Temp, RH)\n",
    "DECAY_PROB = (1 - ATTACH_PROB) * 0.01\n",
    "\n",
    "\n",
    "@njit # This decorator tells Numba to compile this function using the JIT (just-in-time) compiler\n",
    "def particle_loop(GRID_SIZE, grid, ATTACH_PROB, TIMESTEPS, DECAY_PROB):\n",
    "    current_radius = 5 #spawns particles closer to where the seed is, to speed up the program. \n",
    "    for i in range(TIMESTEPS):\n",
    "        # Create the particle starting from a random point on the circle\n",
    "        angle = random.uniform(0, 2 * math.pi) # Random angle in radians\n",
    "        particle = (int(GRID_SIZE/2 + current_radius * math.cos(angle)), int(GRID_SIZE/2 + current_radius * math.sin(angle))) #use angle and spawn point of seed (which is the middle of the grid) ...\n",
    "        # ... to calculate the x and y coordinates of a new particle. Cast it to int also. \n",
    "\n",
    "        while True:\n",
    "            # Check if particle is out of bounds (ensure it's within grid size)\n",
    "            if particle[0] < 0 or particle[1] < 0 or particle[0] >= GRID_SIZE or particle[1] >= GRID_SIZE:\n",
    "                break\n",
    "            \n",
    "            if np.random.uniform() < DECAY_PROB:\n",
    "                break\n",
    "\n",
    "            # Check if the particle can attach to any adjacent grid cell (touches the cluster)\n",
    "            if (grid[particle[0] + 1, particle[1]] == 1 or\n",
    "                grid[particle[0] - 1, particle[1]] == 1 or\n",
    "                grid[particle[0], particle[1] + 1] == 1 or\n",
    "                grid[particle[0], particle[1] - 1] == 1):\n",
    "\n",
    "                if np.random.uniform() < ATTACH_PROB:\n",
    "                    grid[particle[0], particle[1]] = 1  # Attach particle to the grid\n",
    "\n",
    "                dist_to_seed = math.sqrt((particle[0] - GRID_SIZE/2) ** 2 + (particle[1] - GRID_SIZE/2) ** 2)\n",
    "                if dist_to_seed >= current_radius-1:\n",
    "                    current_radius += 10\n",
    "                break  # Once attached, stop particle movement and move to the next particle\n",
    "\n",
    "            # Move the particle randomly until we break the loop manually\n",
    "            move = np.random.randint(0, 4)  # Randomly select one of four directions\n",
    "            if move == 0:\n",
    "                particle = (particle[0], particle[1] + 1)  # Move up\n",
    "            elif move == 1:\n",
    "                particle = (particle[0] + 1, particle[1])  # Move right\n",
    "            elif move == 2:\n",
    "                particle = (particle[0], particle[1] - 1)  # Move down\n",
    "            elif move == 3:\n",
    "                particle = (particle[0] - 1, particle[1])  # Move left\n",
    "        \n",
    "        if i % 1000 == 0:\n",
    "            decay_grid(grid, DECAY_PROB)\n",
    "\n",
    "\n",
    "\n",
    "@njit(parallel=True)\n",
    "def monte_carlo(GRID_SIZE, ATTACH_PROB, TIMESTEPS, NUM_SIMS, DECAY_PROB):\n",
    "    print(\"attach_prob:\" , ATTACH_PROB)\n",
    "    print(\"decay_prob: \", DECAY_PROB)\n",
    "    aggr_grid = np.zeros((GRID_SIZE + 1, GRID_SIZE + 1))\n",
    "    for _ in prange(NUM_SIMS):\n",
    "        # Initialize grid (plus 1 to account for 0-index)\n",
    "        grid = np.zeros((GRID_SIZE + 1, GRID_SIZE + 1))\n",
    "        grid[SEED[0], SEED[1]] = 1  # Set seed point as part of cluster\n",
    "        particle_loop(GRID_SIZE, grid, ATTACH_PROB, TIMESTEPS, DECAY_PROB)\n",
    "        aggr_grid += grid\n",
    "\n",
    "    return aggr_grid / NUM_SIMS\n",
    "\n",
    "\n",
    "final_grid = monte_carlo(GRID_SIZE, ATTACH_PROB, TIMESTEPS, NUM_SIMS, DECAY_PROB)\n",
    "# Plot the result\n",
    "plt.imshow(final_grid, cmap='Greys', interpolation='nearest')\n",
    "plt.show()\n"
   ]
  },
  {
   "cell_type": "code",
   "execution_count": null,
   "metadata": {},
   "outputs": [],
   "source": []
  }
 ],
 "metadata": {
  "kernelspec": {
   "display_name": "Python 3",
   "language": "python",
   "name": "python3"
  },
  "language_info": {
   "codemirror_mode": {
    "name": "ipython",
    "version": 3
   },
   "file_extension": ".py",
   "mimetype": "text/x-python",
   "name": "python",
   "nbconvert_exporter": "python",
   "pygments_lexer": "ipython3",
   "version": "3.10.12"
  }
 },
 "nbformat": 4,
 "nbformat_minor": 2
}
