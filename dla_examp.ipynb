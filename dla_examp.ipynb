{
 "cells": [
  {
   "cell_type": "code",
   "execution_count": 3,
   "metadata": {},
   "outputs": [],
   "source": [
    "import numpy as np \n",
    "from numba import njit\n",
    "import random\n",
    "import matplotlib.pyplot as plt \n",
    "import math"
   ]
  },
  {
   "cell_type": "code",
   "execution_count": null,
   "metadata": {},
   "outputs": [],
   "source": [
    "# Constants\n",
    "GRID_SIZE = 500\n",
    "RADIUS = 249\n",
    "SEED = (GRID_SIZE // 2, GRID_SIZE // 2)  # Seed in the middle of the grid\n",
    "\n",
    "# Initialize grid (plus 1 to account for 0-index)\n",
    "grid = np.zeros((GRID_SIZE + 1, GRID_SIZE + 1))\n",
    "grid[SEED[0], SEED[1]] = 1  # Set seed point as part of cluster\n",
    "\n",
    "\n",
    "\n",
    "@njit # This decorator tells Numba to compile this function using the JIT (just-in-time) compiler\n",
    "def particle_loop(GRID_SIZE, RADIUS, grid):\n",
    "    touches_radius = False\n",
    "    while touches_radius == False: #keeps going until a particle touches the radius of the circle while being attached to the body\n",
    "    # Create the particle starting from a random point on the circle\n",
    "        angle = random.uniform(0, 2 * math.pi) # Random angle in radians\n",
    "        particle = (int(GRID_SIZE/2 + RADIUS * math.cos(angle)), int(GRID_SIZE/2 + RADIUS * math.sin(angle))) #use angle and spawn point of seed (which is the middle of the grid) ...\n",
    "        # ... to calculate the x and y coordinates of a new particle. Cast it to int also. \n",
    "\n",
    "        while True:\n",
    "            # Check if particle is out of bounds (ensure it's within grid size)\n",
    "            if particle[0] < 0 or particle[1] < 0 or particle[0] >= GRID_SIZE or particle[1] >= GRID_SIZE:\n",
    "                break\n",
    "\n",
    "            # Check if the particle can attach to any adjacent grid cell (touches the cluster)\n",
    "            if (grid[particle[0] + 1, particle[1]] == 1 or\n",
    "                grid[particle[0] - 1, particle[1]] == 1 or\n",
    "                grid[particle[0], particle[1] + 1] == 1 or\n",
    "                grid[particle[0], particle[1] - 1] == 1):\n",
    "                grid[particle[0], particle[1]] = 1  # Attach particle to the grid\n",
    "\n",
    "                dist_to_seed = math.sqrt((particle[0] - GRID_SIZE/2) ** 2 + (particle[1] - GRID_SIZE/2) ** 2)\n",
    "                if dist_to_seed >= RADIUS-1:\n",
    "                    touches_radius = True\n",
    "\n",
    "                #if(alculate if it touches radius): \n",
    "                   # touches_radius = True\n",
    "\n",
    "                break  # Once attached, stop particle movement and move to the next particle\n",
    "\n",
    "            # Move the particle randomly until we break the loop manually\n",
    "            move = np.random.randint(0, 4)  # Randomly select one of four directions\n",
    "            if move == 0:\n",
    "                particle = (particle[0], particle[1] + 1)  # Move up\n",
    "            elif move == 1:\n",
    "                particle = (particle[0] + 1, particle[1])  # Move right\n",
    "            elif move == 2:\n",
    "                particle = (particle[0], particle[1] - 1)  # Move down\n",
    "            elif move == 3:\n",
    "                particle = (particle[0] - 1, particle[1])  # Move left\n",
    "\n",
    "\n",
    "particle_loop(GRID_SIZE, RADIUS, grid)\n",
    "# Plot the result\n",
    "plt.imshow(grid, cmap='Greys', interpolation='nearest')\n",
    "plt.show()\n"
   ]
  },
  {
   "cell_type": "code",
   "execution_count": null,
   "metadata": {},
   "outputs": [],
   "source": []
  }
 ],
 "metadata": {
  "kernelspec": {
   "display_name": "base",
   "language": "python",
   "name": "python3"
  },
  "language_info": {
   "codemirror_mode": {
    "name": "ipython",
    "version": 3
   },
   "file_extension": ".py",
   "mimetype": "text/x-python",
   "name": "python",
   "nbconvert_exporter": "python",
   "pygments_lexer": "ipython3",
   "version": "3.11.7"
  }
 },
 "nbformat": 4,
 "nbformat_minor": 2
}
