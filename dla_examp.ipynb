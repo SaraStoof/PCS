{
 "cells": [
  {
   "cell_type": "code",
   "execution_count": 2,
   "metadata": {},
   "outputs": [],
   "source": [
    "import numpy as np \n",
    "from numba import njit, prange\n",
    "import random\n",
    "import matplotlib.pyplot as plt \n",
    "import math"
   ]
  },
  {
   "cell_type": "code",
   "execution_count": 7,
   "metadata": {},
   "outputs": [
    {
     "name": "stdout",
     "output_type": "stream",
     "text": [
      "0.9990487326049873\n"
     ]
    },
    {
     "data": {
      "image/png": "[encoded data removed]",
      "text/plain": [
       "<Figure size 640x480 with 1 Axes>"
      ]
     },
     "metadata": {},
     "output_type": "display_data"
    }
   ],
   "source": [
    "# Constants\n",
    "GRID_SIZE = 100\n",
    "RADIUS = GRID_SIZE//2\n",
    "SEED = (GRID_SIZE // 2, GRID_SIZE // 2)  # Seed in the middle of the grid\n",
    "TIMESTEPS = 50000\n",
    "NUM_SIMS = 1000\n",
    "Temp = 25\n",
    "RH = 97\n",
    "Min_Temp = 0.1\n",
    "Max_Temp = 50 \n",
    "Min_RH = 80\n",
    "Max_RH = 100 \n",
    "\n",
    "def attaching_prob(Temp, RH, Min_temp, Max_temp, Min_RH, Max_RH): \n",
    "    return (Temp**(-0.68) * RH**(-13.9) - (Min_temp**(-0.68) * Min_RH**(-13.9))) / ((Max_temp**(-0.68) * Max_RH**(-13.9)) - (Min_temp**(-0.68) * Min_RH**(-13.9)))\n",
    "\n",
    "ATTACH_PROB = attaching_prob(Temp, RH, Min_Temp, Max_Temp, Min_RH, Max_RH)\n",
    "\n",
    "@njit # This decorator tells Numba to compile this function using the JIT (just-in-time) compiler\n",
    "def particle_loop(GRID_SIZE, RADIUS, grid, ATTACH_PROB, TIMESTEPS):\n",
    "    current_radius = 5 #spawns particles closer to where the seed is, to speed up the program. \n",
    "    for _ in range(TIMESTEPS):\n",
    "        # Create the particle starting from a random point on the circle\n",
    "        angle = random.uniform(0, 2 * math.pi) # Random angle in radians\n",
    "        particle = (int(GRID_SIZE/2 + current_radius * math.cos(angle)), int(GRID_SIZE/2 + current_radius * math.sin(angle))) #use angle and spawn point of seed (which is the middle of the grid) ...\n",
    "        # ... to calculate the x and y coordinates of a new particle. Cast it to int also. \n",
    "\n",
    "        while True:\n",
    "            # Check if particle is out of bounds (ensure it's within grid size)\n",
    "            if particle[0] < 0 or particle[1] < 0 or particle[0] >= GRID_SIZE or particle[1] >= GRID_SIZE:\n",
    "                break\n",
    "\n",
    "            # Check if the particle can attach to any adjacent grid cell (touches the cluster)\n",
    "            if (grid[particle[0] + 1, particle[1]] == 1 or\n",
    "                grid[particle[0] - 1, particle[1]] == 1 or\n",
    "                grid[particle[0], particle[1] + 1] == 1 or\n",
    "                grid[particle[0], particle[1] - 1] == 1):\n",
    "\n",
    "                # dist_to_seed = math.sqrt((particle[0] - GRID_SIZE/2) ** 2 + (particle[1] - GRID_SIZE/2) ** 2)\n",
    "                if np.random.uniform() < ATTACH_PROB:\n",
    "                    grid[particle[0], particle[1]] = 1  # Attach particle to the grid\n",
    "\n",
    "                dist_to_seed = math.sqrt((particle[0] - GRID_SIZE/2) ** 2 + (particle[1] - GRID_SIZE/2) ** 2)\n",
    "                if dist_to_seed >= current_radius-1:\n",
    "                    current_radius += 10\n",
    "                break  # Once attached, stop particle movement and move to the next particle\n",
    "\n",
    "            # Move the particle randomly until we break the loop manually\n",
    "            move = np.random.randint(0, 4)  # Randomly select one of four directions\n",
    "            if move == 0:\n",
    "                particle = (particle[0], particle[1] + 1)  # Move up\n",
    "            elif move == 1:\n",
    "                particle = (particle[0] + 1, particle[1])  # Move right\n",
    "            elif move == 2:\n",
    "                particle = (particle[0], particle[1] - 1)  # Move down\n",
    "            elif move == 3:\n",
    "                particle = (particle[0] - 1, particle[1])  # Move left\n",
    "\n",
    "\n",
    "@njit(parallel=True)\n",
    "def monte_carlo(GRID_SIZE, RADIUS, ATTACH_PROB, TIMESTEPS, NUM_SIMS):\n",
    "    print(ATTACH_PROB)\n",
    "    aggr_grid = np.zeros((GRID_SIZE + 1, GRID_SIZE + 1))\n",
    "    for _ in prange(NUM_SIMS):\n",
    "        # Initialize grid (plus 1 to account for 0-index)\n",
    "        grid = np.zeros((GRID_SIZE + 1, GRID_SIZE + 1))\n",
    "        grid[SEED[0], SEED[1]] = 1  # Set seed point as part of cluster\n",
    "        particle_loop(GRID_SIZE, RADIUS, grid, ATTACH_PROB, TIMESTEPS)\n",
    "        aggr_grid += grid\n",
    "\n",
    "    return aggr_grid / NUM_SIMS\n",
    "\n",
    "\n",
    "final_grid = monte_carlo(GRID_SIZE, RADIUS, ATTACH_PROB, TIMESTEPS, NUM_SIMS)\n",
    "# Plot the result\n",
    "plt.imshow(final_grid, cmap='Greys', interpolation='nearest')\n",
    "plt.show()\n"
   ]
  },
  {
   "cell_type": "code",
   "execution_count": null,
   "metadata": {},
   "outputs": [],
   "source": []
  }
 ],
 "metadata": {
  "kernelspec": {
   "display_name": "Python 3",
   "language": "python",
   "name": "python3"
  },
  "language_info": {
   "codemirror_mode": {
    "name": "ipython",
    "version": 3
   },
   "file_extension": ".py",
   "mimetype": "text/x-python",
   "name": "python",
   "nbconvert_exporter": "python",
   "pygments_lexer": "ipython3",
   "version": "3.10.12"
  }
 },
 "nbformat": 4,
 "nbformat_minor": 2
}
